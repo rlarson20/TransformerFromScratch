{
 "cells": [
  {
   "cell_type": "code",
   "execution_count": 1,
   "id": "0e111076-29e7-4094-adda-2d434bb59364",
   "metadata": {},
   "outputs": [
    {
     "name": "stderr",
     "output_type": "stream",
     "text": [
      "/Users/rjlarson/src/TransformerFromScratch/.venv/lib/python3.13/site-packages/tqdm/auto.py:21: TqdmWarning: IProgress not found. Please update jupyter and ipywidgets. See https://ipywidgets.readthedocs.io/en/stable/user_install.html\n",
      "  from .autonotebook import tqdm as notebook_tqdm\n"
     ]
    }
   ],
   "source": [
    "from datasets import load_dataset\n",
    "from torch.utils.data import Dataset\n",
    "from transformers import GPT2Tokenizer\n",
    "import torch"
   ]
  },
  {
   "cell_type": "code",
   "execution_count": 2,
   "id": "b37b1690-dbb6-402d-aa35-0dbaafbf14a1",
   "metadata": {},
   "outputs": [],
   "source": [
    "tokenizer = GPT2Tokenizer.from_pretrained(\"gpt2\")\n",
    "tokenizer.pad_token = tokenizer.eos_token"
   ]
  },
  {
   "cell_type": "code",
   "execution_count": 11,
   "id": "cc99a210-794e-46cd-b2f0-456175b2eb4d",
   "metadata": {},
   "outputs": [],
   "source": [
    "dataset = ds = load_dataset(\"Salesforce/wikitext\", \"wikitext-2-raw-v1\")"
   ]
  },
  {
   "cell_type": "code",
   "execution_count": 8,
   "id": "d8f171e7-752b-461a-8d10-d6b78eb08345",
   "metadata": {},
   "outputs": [],
   "source": [
    "def tokenize_and_chunk(examples, max_len=512):\n",
    "    tokenized = tokenizer(\n",
    "        examples[\"text\"], truncation=True, max_length=max_len, return_tensors=\"pt\"\n",
    "    )\n",
    "    inputs = tokenized[\"input_ids\"]\n",
    "\n",
    "    chunks = []\n",
    "    for seq in inputs:\n",
    "        for i in range(0, len(seq) - max_len + 1, max_len // 2):\n",
    "            chunk = seq[i : i + max_len]\n",
    "            if len(chunk) == max_length:\n",
    "                chunks.append(chunk)\n",
    "\n",
    "    return torch.stack(chunks)"
   ]
  },
  {
   "cell_type": "code",
   "execution_count": 9,
   "id": "89c57024-0426-46fe-bf52-38dcb4f95ef8",
   "metadata": {},
   "outputs": [],
   "source": [
    "class GPTDataset(Dataset):\n",
    "    def __init__(self, data):\n",
    "        self.data = data\n",
    "\n",
    "    def __len__(self):\n",
    "        return len(self.data)\n",
    "\n",
    "    def __getitem__(self, idx):\n",
    "        return self.data[idx]"
   ]
  },
  {
   "cell_type": "code",
   "execution_count": 16,
   "id": "7f8021e4-7a43-4002-8aa9-6ee689e36468",
   "metadata": {},
   "outputs": [
    {
     "ename": "TypeError",
     "evalue": "list indices must be integers or slices, not str",
     "output_type": "error",
     "traceback": [
      "\u001b[31m---------------------------------------------------------------------------\u001b[39m",
      "\u001b[31mTypeError\u001b[39m                                 Traceback (most recent call last)",
      "\u001b[36mCell\u001b[39m\u001b[36m \u001b[39m\u001b[32mIn[16]\u001b[39m\u001b[32m, line 1\u001b[39m\n\u001b[32m----> \u001b[39m\u001b[32m1\u001b[39m tokenized_data = \u001b[43mtokenize_and_chunk\u001b[49m\u001b[43m(\u001b[49m\u001b[43m[\u001b[49m\u001b[43mexample\u001b[49m\u001b[43m \u001b[49m\u001b[38;5;28;43;01mfor\u001b[39;49;00m\u001b[43m \u001b[49m\u001b[43mexample\u001b[49m\u001b[43m \u001b[49m\u001b[38;5;129;43;01min\u001b[39;49;00m\u001b[43m \u001b[49m\u001b[43mds\u001b[49m\u001b[43m[\u001b[49m\u001b[33;43m'\u001b[39;49m\u001b[33;43mtrain\u001b[39;49m\u001b[33;43m'\u001b[39;49m\u001b[43m]\u001b[49m\u001b[43m]\u001b[49m\u001b[43m)\u001b[49m\n",
      "\u001b[36mCell\u001b[39m\u001b[36m \u001b[39m\u001b[32mIn[8]\u001b[39m\u001b[32m, line 3\u001b[39m, in \u001b[36mtokenize_and_chunk\u001b[39m\u001b[34m(examples, max_len)\u001b[39m\n\u001b[32m      1\u001b[39m \u001b[38;5;28;01mdef\u001b[39;00m\u001b[38;5;250m \u001b[39m\u001b[34mtokenize_and_chunk\u001b[39m(examples, max_len=\u001b[32m512\u001b[39m):\n\u001b[32m      2\u001b[39m     tokenized = tokenizer(\n\u001b[32m----> \u001b[39m\u001b[32m3\u001b[39m         \u001b[43mexamples\u001b[49m\u001b[43m[\u001b[49m\u001b[33;43m\"\u001b[39;49m\u001b[33;43mtext\u001b[39;49m\u001b[33;43m\"\u001b[39;49m\u001b[43m]\u001b[49m, truncation=\u001b[38;5;28;01mTrue\u001b[39;00m, max_length=max_len, return_tensors=\u001b[33m\"\u001b[39m\u001b[33mpt\u001b[39m\u001b[33m\"\u001b[39m\n\u001b[32m      4\u001b[39m     )\n\u001b[32m      5\u001b[39m     inputs = tokenized[\u001b[33m\"\u001b[39m\u001b[33minput_ids\u001b[39m\u001b[33m\"\u001b[39m]\n\u001b[32m      7\u001b[39m     chunks = []\n",
      "\u001b[31mTypeError\u001b[39m: list indices must be integers or slices, not str"
     ]
    }
   ],
   "source": [
    "tokenized_data = tokenize_and_chunk([example for example in ds['train']])"
   ]
  },
  {
   "cell_type": "code",
   "execution_count": null,
   "id": "79837436-4419-429a-b498-15ed23b3fb9a",
   "metadata": {},
   "outputs": [],
   "source": []
  }
 ],
 "metadata": {
  "kernelspec": {
   "display_name": "TFS",
   "language": "python",
   "name": "tfs"
  },
  "language_info": {
   "codemirror_mode": {
    "name": "ipython",
    "version": 3
   },
   "file_extension": ".py",
   "mimetype": "text/x-python",
   "name": "python",
   "nbconvert_exporter": "python",
   "pygments_lexer": "ipython3",
   "version": "3.13.2"
  }
 },
 "nbformat": 4,
 "nbformat_minor": 5
}
